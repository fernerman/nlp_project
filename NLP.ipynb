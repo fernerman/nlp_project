{
  "cells": [
    {
      "cell_type": "markdown",
      "metadata": {
        "id": "view-in-github",
        "colab_type": "text"
      },
      "source": [
        "<a href=\"https://colab.research.google.com/github/fernerman/nlp_project/blob/main/NLP.ipynb\" target=\"_parent\"><img src=\"https://colab.research.google.com/assets/colab-badge.svg\" alt=\"Open In Colab\"/></a>"
      ]
    },
    {
      "cell_type": "markdown",
      "source": [
        "\n",
        "\n",
        "\n",
        "\n",
        "\n",
        "\n",
        "\n",
        "##**NLP задача: Задача мультиклассовой классификации**"
      ],
      "metadata": {
        "id": "jntgtfKw5sYr"
      }
    },
    {
      "cell_type": "code",
      "execution_count": 40,
      "metadata": {
        "id": "9lERFX29BNIP"
      },
      "outputs": [],
      "source": [
        "# !pip install spacy --upgrade\n",
        "# !pip install pymorphy2 --upgrade\n"
      ]
    },
    {
      "cell_type": "markdown",
      "source": [
        "#### Импорт библиотек"
      ],
      "metadata": {
        "id": "IRdK5eTQb2TT"
      }
    },
    {
      "cell_type": "code",
      "execution_count": 41,
      "metadata": {
        "id": "pWmlgWyV2P9l",
        "colab": {
          "base_uri": "https://localhost:8080/"
        },
        "outputId": "91ef519c-18e7-46a4-a018-760dc0512095"
      },
      "outputs": [
        {
          "output_type": "stream",
          "name": "stderr",
          "text": [
            "[nltk_data] Downloading package wordnet to /root/nltk_data...\n",
            "[nltk_data]   Package wordnet is already up-to-date!\n",
            "[nltk_data] Downloading package punkt to /root/nltk_data...\n",
            "[nltk_data]   Package punkt is already up-to-date!\n",
            "[nltk_data] Downloading package stopwords to /root/nltk_data...\n",
            "[nltk_data]   Unzipping corpora/stopwords.zip.\n"
          ]
        }
      ],
      "source": [
        "import matplotlib.pyplot as plt\n",
        "\n",
        "import pandas as pd\n",
        "import numpy as np\n",
        "\n",
        "from sklearn.model_selection import train_test_split\n",
        "from sklearn.preprocessing import LabelEncoder\n",
        "from sklearn.feature_extraction.text import CountVectorizer\n",
        "\n",
        "import numpy as np\n",
        "from sklearn.model_selection import train_test_split\n",
        "from sklearn.preprocessing import LabelEncoder\n",
        "\n",
        "import nltk\n",
        "nltk.download('wordnet')\n",
        "nltk.download('punkt')\n",
        "nltk.download('stopwords')\n",
        "from pymorphy2 import MorphAnalyzer\n",
        "from nltk.corpus import stopwords"
      ]
    },
    {
      "cell_type": "markdown",
      "source": [
        "#### Датасет\n"
      ],
      "metadata": {
        "id": "hN8t3gYBcRqz"
      }
    },
    {
      "cell_type": "markdown",
      "source": [
        "###**Рассматриваются вопросы по категориям людей с сайта**"
      ],
      "metadata": {
        "id": "1_cW2tj5YBHU"
      }
    },
    {
      "cell_type": "code",
      "execution_count": 42,
      "metadata": {
        "id": "8URYUdYQAMFs",
        "colab": {
          "base_uri": "https://localhost:8080/",
          "height": 206
        },
        "outputId": "a86f3c80-238d-493f-c2c9-ae3c72a592c9"
      },
      "outputs": [
        {
          "output_type": "execute_result",
          "data": {
            "text/plain": [
              "   Индекс                                             Вопрос       Категория  \\\n",
              "0       0                                    Что такое СМЭВ?  Что такое СМЭВ   \n",
              "1       1                                     что такое смэв  Что такое СМЭВ   \n",
              "2       2                                               СМЭВ  Что такое СМЭВ   \n",
              "3       3                       Как можно использовать смэв   Что такое СМЭВ   \n",
              "4       4  Для чего Система межведомственного электронног...  Что такое СМЭВ   \n",
              "\n",
              "                                               Ответ  \n",
              "0  Система межведомственного электронного взаимод...  \n",
              "1  Система межведомственного электронного взаимод...  \n",
              "2  Система межведомственного электронного взаимод...  \n",
              "3  Система межведомственного электронного взаимод...  \n",
              "4  Система межведомственного электронного взаимод...  "
            ],
            "text/html": [
              "\n",
              "\n",
              "  <div id=\"df-c779d0f4-3254-4f3f-ba13-74cda068ad3e\">\n",
              "    <div class=\"colab-df-container\">\n",
              "      <div>\n",
              "<style scoped>\n",
              "    .dataframe tbody tr th:only-of-type {\n",
              "        vertical-align: middle;\n",
              "    }\n",
              "\n",
              "    .dataframe tbody tr th {\n",
              "        vertical-align: top;\n",
              "    }\n",
              "\n",
              "    .dataframe thead th {\n",
              "        text-align: right;\n",
              "    }\n",
              "</style>\n",
              "<table border=\"1\" class=\"dataframe\">\n",
              "  <thead>\n",
              "    <tr style=\"text-align: right;\">\n",
              "      <th></th>\n",
              "      <th>Индекс</th>\n",
              "      <th>Вопрос</th>\n",
              "      <th>Категория</th>\n",
              "      <th>Ответ</th>\n",
              "    </tr>\n",
              "  </thead>\n",
              "  <tbody>\n",
              "    <tr>\n",
              "      <th>0</th>\n",
              "      <td>0</td>\n",
              "      <td>Что такое СМЭВ?</td>\n",
              "      <td>Что такое СМЭВ</td>\n",
              "      <td>Система межведомственного электронного взаимод...</td>\n",
              "    </tr>\n",
              "    <tr>\n",
              "      <th>1</th>\n",
              "      <td>1</td>\n",
              "      <td>что такое смэв</td>\n",
              "      <td>Что такое СМЭВ</td>\n",
              "      <td>Система межведомственного электронного взаимод...</td>\n",
              "    </tr>\n",
              "    <tr>\n",
              "      <th>2</th>\n",
              "      <td>2</td>\n",
              "      <td>СМЭВ</td>\n",
              "      <td>Что такое СМЭВ</td>\n",
              "      <td>Система межведомственного электронного взаимод...</td>\n",
              "    </tr>\n",
              "    <tr>\n",
              "      <th>3</th>\n",
              "      <td>3</td>\n",
              "      <td>Как можно использовать смэв</td>\n",
              "      <td>Что такое СМЭВ</td>\n",
              "      <td>Система межведомственного электронного взаимод...</td>\n",
              "    </tr>\n",
              "    <tr>\n",
              "      <th>4</th>\n",
              "      <td>4</td>\n",
              "      <td>Для чего Система межведомственного электронног...</td>\n",
              "      <td>Что такое СМЭВ</td>\n",
              "      <td>Система межведомственного электронного взаимод...</td>\n",
              "    </tr>\n",
              "  </tbody>\n",
              "</table>\n",
              "</div>\n",
              "      <button class=\"colab-df-convert\" onclick=\"convertToInteractive('df-c779d0f4-3254-4f3f-ba13-74cda068ad3e')\"\n",
              "              title=\"Convert this dataframe to an interactive table.\"\n",
              "              style=\"display:none;\">\n",
              "\n",
              "  <svg xmlns=\"http://www.w3.org/2000/svg\" height=\"24px\"viewBox=\"0 0 24 24\"\n",
              "       width=\"24px\">\n",
              "    <path d=\"M0 0h24v24H0V0z\" fill=\"none\"/>\n",
              "    <path d=\"M18.56 5.44l.94 2.06.94-2.06 2.06-.94-2.06-.94-.94-2.06-.94 2.06-2.06.94zm-11 1L8.5 8.5l.94-2.06 2.06-.94-2.06-.94L8.5 2.5l-.94 2.06-2.06.94zm10 10l.94 2.06.94-2.06 2.06-.94-2.06-.94-.94-2.06-.94 2.06-2.06.94z\"/><path d=\"M17.41 7.96l-1.37-1.37c-.4-.4-.92-.59-1.43-.59-.52 0-1.04.2-1.43.59L10.3 9.45l-7.72 7.72c-.78.78-.78 2.05 0 2.83L4 21.41c.39.39.9.59 1.41.59.51 0 1.02-.2 1.41-.59l7.78-7.78 2.81-2.81c.8-.78.8-2.07 0-2.86zM5.41 20L4 18.59l7.72-7.72 1.47 1.35L5.41 20z\"/>\n",
              "  </svg>\n",
              "      </button>\n",
              "\n",
              "\n",
              "\n",
              "    <div id=\"df-cf544c7c-b27c-45e7-be5a-c27bdfa6bd72\">\n",
              "      <button class=\"colab-df-quickchart\" onclick=\"quickchart('df-cf544c7c-b27c-45e7-be5a-c27bdfa6bd72')\"\n",
              "              title=\"Suggest charts.\"\n",
              "              style=\"display:none;\">\n",
              "\n",
              "<svg xmlns=\"http://www.w3.org/2000/svg\" height=\"24px\"viewBox=\"0 0 24 24\"\n",
              "     width=\"24px\">\n",
              "    <g>\n",
              "        <path d=\"M19 3H5c-1.1 0-2 .9-2 2v14c0 1.1.9 2 2 2h14c1.1 0 2-.9 2-2V5c0-1.1-.9-2-2-2zM9 17H7v-7h2v7zm4 0h-2V7h2v10zm4 0h-2v-4h2v4z\"/>\n",
              "    </g>\n",
              "</svg>\n",
              "      </button>\n",
              "    </div>\n",
              "\n",
              "<style>\n",
              "  .colab-df-quickchart {\n",
              "    background-color: #E8F0FE;\n",
              "    border: none;\n",
              "    border-radius: 50%;\n",
              "    cursor: pointer;\n",
              "    display: none;\n",
              "    fill: #1967D2;\n",
              "    height: 32px;\n",
              "    padding: 0 0 0 0;\n",
              "    width: 32px;\n",
              "  }\n",
              "\n",
              "  .colab-df-quickchart:hover {\n",
              "    background-color: #E2EBFA;\n",
              "    box-shadow: 0px 1px 2px rgba(60, 64, 67, 0.3), 0px 1px 3px 1px rgba(60, 64, 67, 0.15);\n",
              "    fill: #174EA6;\n",
              "  }\n",
              "\n",
              "  [theme=dark] .colab-df-quickchart {\n",
              "    background-color: #3B4455;\n",
              "    fill: #D2E3FC;\n",
              "  }\n",
              "\n",
              "  [theme=dark] .colab-df-quickchart:hover {\n",
              "    background-color: #434B5C;\n",
              "    box-shadow: 0px 1px 3px 1px rgba(0, 0, 0, 0.15);\n",
              "    filter: drop-shadow(0px 1px 2px rgba(0, 0, 0, 0.3));\n",
              "    fill: #FFFFFF;\n",
              "  }\n",
              "</style>\n",
              "\n",
              "    <script>\n",
              "      async function quickchart(key) {\n",
              "        const containerElement = document.querySelector('#' + key);\n",
              "        const charts = await google.colab.kernel.invokeFunction(\n",
              "            'suggestCharts', [key], {});\n",
              "      }\n",
              "    </script>\n",
              "\n",
              "      <script>\n",
              "\n",
              "function displayQuickchartButton(domScope) {\n",
              "  let quickchartButtonEl =\n",
              "    domScope.querySelector('#df-cf544c7c-b27c-45e7-be5a-c27bdfa6bd72 button.colab-df-quickchart');\n",
              "  quickchartButtonEl.style.display =\n",
              "    google.colab.kernel.accessAllowed ? 'block' : 'none';\n",
              "}\n",
              "\n",
              "        displayQuickchartButton(document);\n",
              "      </script>\n",
              "      <style>\n",
              "    .colab-df-container {\n",
              "      display:flex;\n",
              "      flex-wrap:wrap;\n",
              "      gap: 12px;\n",
              "    }\n",
              "\n",
              "    .colab-df-convert {\n",
              "      background-color: #E8F0FE;\n",
              "      border: none;\n",
              "      border-radius: 50%;\n",
              "      cursor: pointer;\n",
              "      display: none;\n",
              "      fill: #1967D2;\n",
              "      height: 32px;\n",
              "      padding: 0 0 0 0;\n",
              "      width: 32px;\n",
              "    }\n",
              "\n",
              "    .colab-df-convert:hover {\n",
              "      background-color: #E2EBFA;\n",
              "      box-shadow: 0px 1px 2px rgba(60, 64, 67, 0.3), 0px 1px 3px 1px rgba(60, 64, 67, 0.15);\n",
              "      fill: #174EA6;\n",
              "    }\n",
              "\n",
              "    [theme=dark] .colab-df-convert {\n",
              "      background-color: #3B4455;\n",
              "      fill: #D2E3FC;\n",
              "    }\n",
              "\n",
              "    [theme=dark] .colab-df-convert:hover {\n",
              "      background-color: #434B5C;\n",
              "      box-shadow: 0px 1px 3px 1px rgba(0, 0, 0, 0.15);\n",
              "      filter: drop-shadow(0px 1px 2px rgba(0, 0, 0, 0.3));\n",
              "      fill: #FFFFFF;\n",
              "    }\n",
              "  </style>\n",
              "\n",
              "      <script>\n",
              "        const buttonEl =\n",
              "          document.querySelector('#df-c779d0f4-3254-4f3f-ba13-74cda068ad3e button.colab-df-convert');\n",
              "        buttonEl.style.display =\n",
              "          google.colab.kernel.accessAllowed ? 'block' : 'none';\n",
              "\n",
              "        async function convertToInteractive(key) {\n",
              "          const element = document.querySelector('#df-c779d0f4-3254-4f3f-ba13-74cda068ad3e');\n",
              "          const dataTable =\n",
              "            await google.colab.kernel.invokeFunction('convertToInteractive',\n",
              "                                                     [key], {});\n",
              "          if (!dataTable) return;\n",
              "\n",
              "          const docLinkHtml = 'Like what you see? Visit the ' +\n",
              "            '<a target=\"_blank\" href=https://colab.research.google.com/notebooks/data_table.ipynb>data table notebook</a>'\n",
              "            + ' to learn more about interactive tables.';\n",
              "          element.innerHTML = '';\n",
              "          dataTable['output_type'] = 'display_data';\n",
              "          await google.colab.output.renderOutput(dataTable, element);\n",
              "          const docLink = document.createElement('div');\n",
              "          docLink.innerHTML = docLinkHtml;\n",
              "          element.appendChild(docLink);\n",
              "        }\n",
              "      </script>\n",
              "    </div>\n",
              "  </div>\n"
            ]
          },
          "metadata": {},
          "execution_count": 42
        }
      ],
      "source": [
        "data = pd.read_excel('dataset21.xlsx')\n",
        "df = data.rename(columns={'Unnamed: 0': 'Индекс'})\n",
        "df.head()"
      ]
    },
    {
      "cell_type": "code",
      "execution_count": 43,
      "metadata": {
        "id": "M-vLasraBYOe",
        "colab": {
          "base_uri": "https://localhost:8080/"
        },
        "outputId": "87e212e7-e707-42dc-d692-602447d4d9db"
      },
      "outputs": [
        {
          "output_type": "execute_result",
          "data": {
            "text/plain": [
              "145"
            ]
          },
          "metadata": {},
          "execution_count": 43
        }
      ],
      "source": [
        "\n",
        "df[df['Категория'] == 'Переименовать систему в ЛК УВ']['Ответ'].index[0]"
      ]
    },
    {
      "cell_type": "markdown",
      "source": [
        "#### Распределение категорий\n",
        "Наблюдается дизбаланс классов"
      ],
      "metadata": {
        "id": "7i55ZarjcaZV"
      }
    },
    {
      "cell_type": "code",
      "execution_count": 44,
      "metadata": {
        "id": "vfXcb_dG00Ce",
        "colab": {
          "base_uri": "https://localhost:8080/",
          "height": 1000
        },
        "outputId": "a26f91f4-8dc7-42f8-8e3c-7c75f3342bd0"
      },
      "outputs": [
        {
          "output_type": "display_data",
          "data": {
            "text/plain": [
              "<Figure size 640x480 with 1 Axes>"
            ],
            "image/png": "[encoded data removed]"
          },
          "metadata": {}
        },
        {
          "output_type": "execute_result",
          "data": {
            "text/plain": [
              "Заявка                                   74\n",
              "АЦК Госзаказ                             66\n",
              "Тезис                                    34\n",
              "Доступ к ВС.                             29\n",
              "Проблемы с ЛК УВ                         26\n",
              "РГУ                                      26\n",
              "Госуслуги                                25\n",
              "АС МИО                                   25\n",
              "Регистрация в СМЭВ                       25\n",
              "Почта                                    24\n",
              "Перечень видов сведений(ВС)              20\n",
              "О себе                                   19\n",
              "Получения доступа к ВС                   19\n",
              "Министр                                  16\n",
              "Контакты УЦ                              16\n",
              "Контакты тех.поддержки СМЭВ              16\n",
              "ИС АБП                                   16\n",
              "Электронный бюджет                       15\n",
              "Что такое ЛК УВ                          14\n",
              "Адрес                                    14\n",
              "Квалифицированная электронная подпись    13\n",
              "Порядок получения dst/дст                13\n",
              "Что такое СМЭВ                           12\n",
              "Доступ к ЛК УВ                           11\n",
              "Имя                                      11\n",
              "Мнемоника                                11\n",
              "Приветствие                              11\n",
              "Переименовать систему в ЛК УВ             9\n",
              "Name: Категория, dtype: int64"
            ]
          },
          "metadata": {},
          "execution_count": 44
        }
      ],
      "source": [
        "cateroies=df['Категория'].unique()\n",
        "values=df['Категория'].value_counts()\n",
        "import matplotlib.pyplot as plt\n",
        "\n",
        "categories = df['Категория'].unique()\n",
        "values = df['Категория'].value_counts()\n",
        "data_dist = pd.Series(values)\n",
        "# Plot the distribution using a bar plot\n",
        "data_dist.plot(kind='bar')\n",
        "\n",
        "plt.xlabel('Category')\n",
        "plt.ylabel('Count')\n",
        "plt.title('Distribution Plot')\n",
        "\n",
        "plt.show()\n",
        "values\n",
        "\n"
      ]
    },
    {
      "cell_type": "markdown",
      "source": [
        "Уменьшение двух повышенных классов не помогают увеличть точность accuracy"
      ],
      "metadata": {
        "id": "KBP7xnhNboqq"
      }
    },
    {
      "cell_type": "code",
      "source": [
        "from sklearn.utils import resample\n",
        "class_majority = df[df['Категория'] == 'АЦК Госзаказ']\n",
        "\n",
        "# Уменьшение класса с большим количеством примеров\n",
        "class_majority_downsampled = resample(class_majority,\n",
        "                                     replace=False,    # Удаление примеров без повторения\n",
        "                                     n_samples=40,    # Желаемый размер уменьшенного класса\n",
        "                                     random_state=42)  # Зафиксированный random state для воспроизводимости\n",
        "\n",
        "df = pd.concat([df[df['Категория'] != 'АЦК Госзаказ'], class_majority_downsampled])\n",
        "# Проверка нового размера класса\n",
        "class_majority_downsampled.shape[0]\n"
      ],
      "metadata": {
        "id": "xSdw44cig-uT",
        "colab": {
          "base_uri": "https://localhost:8080/"
        },
        "outputId": "af452dbc-ee72-4692-c322-a4621b8f3939"
      },
      "execution_count": 45,
      "outputs": [
        {
          "output_type": "execute_result",
          "data": {
            "text/plain": [
              "40"
            ]
          },
          "metadata": {},
          "execution_count": 45
        }
      ]
    },
    {
      "cell_type": "code",
      "source": [
        "class_majority = df[df['Категория'] == 'Заявка']\n",
        "\n",
        "# Уменьшение класса с большим количеством примеров\n",
        "class_majority_downsampled = resample(class_majority,\n",
        "                                     replace=False,    # Удаление примеров без повторения\n",
        "                                     n_samples=45,    # Желаемый размер уменьшенного класса\n",
        "                                     random_state=42)  # Зафиксированный random state для воспроизводимости\n",
        "\n",
        "df = pd.concat([df[df['Категория'] != 'Заявка'], class_majority_downsampled])\n",
        "# Проверка нового размера класса\n",
        "class_majority_downsampled.shape[0]"
      ],
      "metadata": {
        "id": "O8cXZ59_rgs1",
        "colab": {
          "base_uri": "https://localhost:8080/"
        },
        "outputId": "b9ad3490-1799-4afe-9a20-c4a2c9d8bba2"
      },
      "execution_count": 46,
      "outputs": [
        {
          "output_type": "execute_result",
          "data": {
            "text/plain": [
              "45"
            ]
          },
          "metadata": {},
          "execution_count": 46
        }
      ]
    },
    {
      "cell_type": "markdown",
      "source": [
        "Поэтому я увеличил категории которых мало"
      ],
      "metadata": {
        "id": "Yd0uGMBvc2j3"
      }
    },
    {
      "cell_type": "code",
      "execution_count": 47,
      "metadata": {
        "id": "0zpBMFsBHayE"
      },
      "outputs": [],
      "source": [
        "import pandas as pd\n",
        "\n",
        "# Предположим, что у вас есть DataFrame df с колонками \"features\" и \"label\"\n",
        "# и класс с малым количеством данных имеет метку \"class_1\"\n",
        "\n",
        "# Выделение данных для класса с малым количеством данных\n",
        "class_1_data = df[df['Категория'] == 'Приветствие']\n",
        "class_2_data = df[df['Категория'] == 'Переименовать систему в ЛК УВ']\n",
        "\n",
        "# Определение множителя для дублирования данных (в данном случае - 3)\n",
        "multiplier = 2\n",
        "\n",
        "# Дублирование данных для класса 1\n",
        "duplicated_data = pd.concat([class_1_data] * multiplier, ignore_index=True)\n",
        "# Дублирование данных для класса 2\n",
        "duplicated_data2 = pd.concat([class_2_data] * multiplier, ignore_index=True)\n",
        "\n",
        "# Находим индекс последней дублированной строки\n",
        "last_duplicate_index = duplicated_data.index.max()\n",
        "last_duplicate_index2 = duplicated_data2.index.max()\n",
        "\n",
        "# Вставка данных после последней дублированной строки\n",
        "df = pd.concat([df.iloc[:last_duplicate_index + 1], duplicated_data, df.iloc[last_duplicate_index + 1:]], ignore_index=True)\n",
        "\n",
        "df = pd.concat([df.iloc[:last_duplicate_index2 + 1], duplicated_data2, df.iloc[last_duplicate_index2 + 1:]], ignore_index=True)\n"
      ]
    },
    {
      "cell_type": "code",
      "execution_count": 48,
      "metadata": {
        "id": "lbTQnfDQGYVY",
        "colab": {
          "base_uri": "https://localhost:8080/"
        },
        "outputId": "c0959ff6-7d7c-4c1e-ab9e-647d4e6f5580"
      },
      "outputs": [
        {
          "output_type": "execute_result",
          "data": {
            "text/plain": [
              "0                                        Что такое СМЭВ?\n",
              "1                                         что такое смэв\n",
              "2                                                   СМЭВ\n",
              "3                           Как можно использовать смэв \n",
              "4      Для чего Система межведомственного электронног...\n",
              "                             ...                        \n",
              "590                                     Ошибка при входе\n",
              "591                                  Как оставить заявку\n",
              "592                                               Ошибка\n",
              "593                         как позвонить в техподдержку\n",
              "594                                         Починить МФУ\n",
              "Name: Вопрос, Length: 595, dtype: object"
            ]
          },
          "metadata": {},
          "execution_count": 48
        }
      ],
      "source": [
        "# Assuming 'Text' column contains the text data\n",
        "text_data = df['Вопрос']\n",
        "text_data"
      ]
    },
    {
      "cell_type": "code",
      "execution_count": 49,
      "metadata": {
        "id": "6MiL2GuoHftU"
      },
      "outputs": [],
      "source": [
        "import re\n",
        "patterns = \"[A-Za-z0-9!#$%&'()*+,.``'«»'/:;<=>?@[\\]^_`{|}~—\\\"\\-]+\""
      ]
    },
    {
      "cell_type": "code",
      "execution_count": 50,
      "metadata": {
        "id": "l5sq0qZvHV5k",
        "colab": {
          "base_uri": "https://localhost:8080/"
        },
        "outputId": "bcb5f8d5-d77f-4cae-cee9-04361b569ca9"
      },
      "outputs": [
        {
          "output_type": "execute_result",
          "data": {
            "text/plain": [
              "0                                        Что такое СМЭВ \n",
              "1                                         что такое смэв\n",
              "2                                                   СМЭВ\n",
              "3                           Как можно использовать смэв \n",
              "4      Для чего Система межведомственного электронног...\n",
              "                             ...                        \n",
              "590                                     Ошибка при входе\n",
              "591                                  Как оставить заявку\n",
              "592                                               Ошибка\n",
              "593                         как позвонить в техподдержку\n",
              "594                                         Починить МФУ\n",
              "Name: Вопрос, Length: 595, dtype: object"
            ]
          },
          "metadata": {},
          "execution_count": 50
        }
      ],
      "source": [
        "def clean(doc):\n",
        "    doc = re.sub(patterns, ' ', doc)\n",
        "    return doc\n",
        "text_data.apply(clean)"
      ]
    },
    {
      "cell_type": "markdown",
      "source": [
        "#### Токенизация и добавление стоп-слов"
      ],
      "metadata": {
        "id": "LdhS0TiRf0L0"
      }
    },
    {
      "cell_type": "code",
      "execution_count": 51,
      "metadata": {
        "id": "-vzxi8ZICqlf"
      },
      "outputs": [],
      "source": [
        "# Tokenize the text data\n",
        "tokenized_data = []\n",
        "custom_stop_words=[]\n",
        "import re\n",
        "patterns = \"[A-Zoryvectmail0-9!#$%&'()*+,.``'«»'/:;<=>?@[\\]^_`{|}~—\\\"\\-]+\"\n",
        "stopwords_ru = stopwords.words(\"russian\")\n",
        "stopwords_ru.remove(\"ты\")\n",
        "stopwords_ru.remove(\"не\")\n",
        "stopwords_ru.remove(\"о\")\n",
        "stopwords_ru.remove(\"себе\")\n",
        "stopwords_ru.remove(\"тебя\")\n",
        "stopwords_ru.append(\"что\")\n",
        "stopwords_ru.append(\"такой\")\n",
        "morph = MorphAnalyzer()\n"
      ]
    },
    {
      "cell_type": "code",
      "execution_count": 52,
      "metadata": {
        "id": "5z7QML96QNFG"
      },
      "outputs": [],
      "source": [
        "stopwords_ru.append('доступ')\n",
        "stopwords_ru.append('взаимодействие')"
      ]
    },
    {
      "cell_type": "markdown",
      "source": [
        "#### Лемматизация\n",
        "Приведение словоформы к нормальной форме\n",
        "\n",
        "\n",
        "*   кошками → кошка\n",
        "*   бежал → бежать\n",
        "*   бежал → бежать\n",
        "\n",
        "\n",
        "\n",
        "\n",
        "\n",
        "\n"
      ],
      "metadata": {
        "id": "AlMOvYOZf-QW"
      }
    },
    {
      "cell_type": "code",
      "execution_count": 53,
      "metadata": {
        "id": "6IMAoSIQtQ6y"
      },
      "outputs": [],
      "source": [
        "def lemmatize(doc):\n",
        "    doc = re.sub(patterns, ' ', doc)\n",
        "\n",
        "    tokens = []\n",
        "    for token in doc.split():\n",
        "        token = token.strip().lower()\n",
        "        if token not in ['тебя','себе','не','что']:\n",
        "          token = morph.normal_forms(token)[0]\n",
        "          if token.strip() and token not in stopwords_ru:\n",
        "            tokens.append(token)\n",
        "        else:\n",
        "          tokens.append(token)\n",
        "    return tokens"
      ]
    },
    {
      "cell_type": "code",
      "execution_count": 54,
      "metadata": {
        "id": "MpFvi45QtYD_"
      },
      "outputs": [],
      "source": [
        "tokens = text_data.apply(lemmatize)\n"
      ]
    },
    {
      "cell_type": "code",
      "execution_count": 54,
      "metadata": {
        "id": "nS9Jg1w3Pev8"
      },
      "outputs": [],
      "source": []
    },
    {
      "cell_type": "markdown",
      "source": [
        "#### Декодирование Категорий в цифры\n"
      ],
      "metadata": {
        "id": "EhAHZyNhhiS-"
      }
    },
    {
      "cell_type": "code",
      "execution_count": 55,
      "metadata": {
        "id": "OXklPGm6k46u"
      },
      "outputs": [],
      "source": [
        "from sklearn.preprocessing import LabelEncoder\n",
        "label=df['Категория'].values\n"
      ]
    },
    {
      "cell_type": "markdown",
      "source": [
        "Преобразование текста в частотные векторы слова с помощью  TfidfVectorizer.\n",
        "\n",
        "**Метод TF-IDF**\n",
        "Чуть более сложный и продвинутый метод определения значимости слов в тексте называется TF-IDF (term frequency — inverse document frequency)."
      ],
      "metadata": {
        "id": "NAjJFqwkiC2X"
      }
    },
    {
      "cell_type": "markdown",
      "source": [
        "Основная идея\n",
        "Если слово часто встречается во всех документах (это в первую очередь касается предлогов, союзов и других стоп-слов), то вряд ли эти слова имеют большое значение. И наоборот, если слово встречаться только в одном документе, вероятно оно в большей степени определяет его содержание.\n",
        "\n",
        "Другими словами, определяется не только значимость слова в тексте, но и значимость слова с учётом всех текстов."
      ],
      "metadata": {
        "id": "Iupdu8jYkzHz"
      }
    },
    {
      "cell_type": "code",
      "execution_count": 56,
      "metadata": {
        "id": "ngl0IO3Z_aHx"
      },
      "outputs": [],
      "source": [
        "from sklearn.feature_extraction.text import TfidfVectorizer\n",
        "text = [' '.join(token) for token in tokens]\n",
        "text = [s.replace(\"ува\", \"ув\") for s in text]\n",
        "text = [s.replace(\"мнемоник\", \"мнемоника\") for s in text]\n",
        "tfidfconverter = TfidfVectorizer(use_idf = True)\n",
        "X = tfidfconverter.fit_transform(text)\n"
      ]
    },
    {
      "cell_type": "markdown",
      "source": [
        "Мы можем посмотреть какие слова остались после фильтрации.\n",
        "\n"
      ],
      "metadata": {
        "id": "ltngklAbmWIp"
      }
    },
    {
      "cell_type": "code",
      "source": [
        "print(tfidfconverter.get_feature_names_out())"
      ],
      "metadata": {
        "colab": {
          "base_uri": "https://localhost:8080/"
        },
        "id": "s2Cwi7jtmX67",
        "outputId": "fe535636-c3e1-4680-9e4d-0e1e2d979e31"
      },
      "execution_count": 57,
      "outputs": [
        {
          "output_type": "stream",
          "name": "stdout",
          "text": [
            "['ds' 'аббревиатура' 'аббривеиатура' 'абп' 'административный' 'адрес'\n",
            " 'аис' 'активировать' 'активный' 'арма' 'ас' 'ацк' 'бланк' 'болезнь'\n",
            " 'борисович' 'бюджет' 'бюджетный' 'ваш' 'ввод' 'взять' 'вид' 'включаться'\n",
            " 'внесение' 'внести' 'возглавлять' 'войти' 'вопрос' 'восстановить'\n",
            " 'восстановление' 'вс' 'всё' 'вход' 'вылетать' 'гис' 'главный' 'гмп' 'гос'\n",
            " 'госзаказ' 'госпошлина' 'госуслуга' 'график' 'графика' 'грузить'\n",
            " 'далёкий' 'данные' 'дата' 'дать' 'делать' 'дело' 'делопроизводитель'\n",
            " 'день' 'добавить' 'добрый' 'документ' 'долго' 'должный' 'домен' 'досье'\n",
            " 'дратуть' 'дст' 'егрн' 'есиа' 'ехничёска' 'загружаться' 'загрузаться'\n",
            " 'загрузить' 'загрузка' 'зайти' 'заказ' 'закончиться' 'закрытый' 'закупка'\n",
            " 'замена' 'заменить' 'замещение' 'заниматься' 'записаться' 'запись'\n",
            " 'заполнение' 'заполнить' 'заполняемость' 'запрос' 'запросить' 'запуск'\n",
            " 'запускаться' 'зарегистрировать' 'заходить' 'заявка' 'заявление' 'звать'\n",
            " 'здаров' 'здравствуй' 'здравствуйте' 'значит' 'игорь' 'извещение'\n",
            " 'изменение' 'изменить' 'иметься' 'имя' 'инструкция' 'информационный'\n",
            " 'информация' 'информсистема' 'иса' 'исключение' 'исполнение'\n",
            " 'использовать' 'истечь' 'исчезнуть' 'кабинет' 'картридж'\n",
            " 'квалифицировать' 'ключ' 'кнопка' 'компьютер' 'консультация' 'контакт'\n",
            " 'контактный' 'контракт' 'кончиться' 'личный' 'лк' 'лод' 'максим'\n",
            " 'межведомственный' 'местоположение' 'мининформа' 'министерство' 'министр'\n",
            " 'минцифра' 'мио' 'мнемоника' 'мочь' 'мфу' 'мфц' 'нажиматься'\n",
            " 'наименование' 'найти' 'настроить' 'находиться' 'нац' 'наш' 'не'\n",
            " 'некорректный' 'необходимо' 'необходимый' 'новый' 'номер' 'номерок' 'нпа'\n",
            " 'нужный' 'обеспечить' 'область' 'обновляться' 'образ' 'образец'\n",
            " 'обратиться' 'обращаться' 'общий' 'ов' 'огб' 'означать' 'окопф'\n",
            " 'оператор' 'оплата' 'опубликование' 'организация' 'оригинал' 'оставить'\n",
            " 'открываться' 'открытие' 'открытый' 'открыть' 'отображаться' 'отправить'\n",
            " 'отправка' 'отпуск' 'отсутствовать' 'отчёт' 'отчётность' 'оформить'\n",
            " 'оформление' 'ошибка' 'пароль' 'паспортный' 'переименование'\n",
            " 'переименовать' 'переименовка' 'перенести' 'перенос' 'перерегистрация'\n",
            " 'перерегистрировать' 'перерегистровать' 'перечень' 'письмо' 'план'\n",
            " 'планирование' 'платформа' 'подача' 'поддержка' 'подключение'\n",
            " 'подключить' 'подпись' 'подсистема' 'подсказать' 'подтвреждение'\n",
            " 'позвонить' 'полномочие' 'полный' 'получение' 'получить' 'пользователь'\n",
            " 'пользоватеть' 'поменять' 'помогать' 'помочь' 'попасть' 'портал'\n",
            " 'поручение' 'порядок' 'посмотреть' 'починить' 'почта' 'почтовый'\n",
            " 'появляться' 'правильный' 'правка' 'предоставить' 'предоставление'\n",
            " 'прекращение' 'привет' 'приветик' 'приветствовать' 'принести' 'принтер'\n",
            " 'приходить' 'приёмка' 'проблема' 'проверить' 'прогрузиться' 'проект'\n",
            " 'пройти' 'пропасть' 'просить' 'просмотр' 'публикать' 'публикация' 'пфр'\n",
            " 'работа' 'работать' 'разблокировать' 'размещение' 'расшифровка' 'ргма'\n",
            " 'ргу' 'рег' 'регистратор' 'регистрациить' 'регистрация' 'регламент'\n",
            " 'регпортал' 'реестр' 'резолюция' 'результат' 'рейтинг' 'роль'\n",
            " 'руководство' 'сайт' 'сброс' 'сбросить' 'сведение' 'свой' 'связаться'\n",
            " 'связь' 'сделать' 'себе' 'сервер' 'сертификат' 'система' 'ситуационный'\n",
            " 'сканер' 'слететь' 'сломаться' 'смена' 'сменить' 'сместиться' 'смэв'\n",
            " 'согласование' 'создание' 'создать' 'состояние' 'сотрудник' 'список'\n",
            " 'справочник' 'срок' 'ссылка' 'статус' 'страница' 'сц' 'твой' 'тебя'\n",
            " 'тезис' 'телефон' 'телефонный' 'технический' 'технология' 'техосмотр'\n",
            " 'техподдержка' 'тип' 'требоваться' 'тс' 'ты' 'ув' 'уд' 'удаваться'\n",
            " 'удаление' 'удалить' 'удостоверять' 'узнать' 'уметь' 'управление'\n",
            " 'услуга' 'установить' 'утро' 'уц' 'участинк' 'участник' 'учётный' 'фгис'\n",
            " 'фетисов' 'финансы' 'финас' 'фио' 'форма' 'формирование' 'фрг' 'функция'\n",
            " 'центр' 'часть' 'челябинск' 'челябинский' 'чрцнит' 'что' 'шаблон' 'штраф'\n",
            " 'эб' 'электронный' 'эп' 'это' 'юу' 'ящик']\n"
          ]
        }
      ]
    },
    {
      "cell_type": "markdown",
      "source": [
        "Посмотрим на количество документов и количество токенов (слов)"
      ],
      "metadata": {
        "id": "EKbx87eCnA8k"
      }
    },
    {
      "cell_type": "code",
      "source": [
        "X.shape"
      ],
      "metadata": {
        "colab": {
          "base_uri": "https://localhost:8080/"
        },
        "id": "4RSgm50Vmxnd",
        "outputId": "9e8c3cb8-dfb6-422c-bbfb-6f12a404a83b"
      },
      "execution_count": 58,
      "outputs": [
        {
          "output_type": "execute_result",
          "data": {
            "text/plain": [
              "(595, 352)"
            ]
          },
          "metadata": {},
          "execution_count": 58
        }
      ]
    },
    {
      "cell_type": "markdown",
      "source": [
        "Рассчитаем значение TF-IDF для каждого слова по каждому тексту.\n",
        "\n"
      ],
      "metadata": {
        "id": "2_I-FRHsnSOt"
      }
    },
    {
      "cell_type": "code",
      "source": [
        "# посмотрим на значение TF-IDF для конкретного слова в конкретном документе\n",
        "# чем оно уникальнее для конкретного документа, тем выше показатель\n",
        "df_tfidf = pd.DataFrame(X.toarray(), columns = tfidfconverter.get_feature_names_out())\n",
        "# pd.DataFrame(df_tfidf.T.to_csv('bow.csv')\n",
        "df_tfidf.T\n"
      ],
      "metadata": {
        "colab": {
          "base_uri": "https://localhost:8080/",
          "height": 424
        },
        "id": "0MeJqzPfnTQ2",
        "outputId": "50cd00a6-c55d-4d15-e122-3782fdf41c26"
      },
      "execution_count": 59,
      "outputs": [
        {
          "output_type": "execute_result",
          "data": {
            "text/plain": [
              "                  0    1    2    3         4         5    6         7    8    \\\n",
              "ds                0.0  0.0  0.0  0.0  0.000000  0.000000  0.0  0.000000  0.0   \n",
              "аббревиатура      0.0  0.0  0.0  0.0  0.000000  0.723755  0.0  0.000000  0.0   \n",
              "аббривеиатура     0.0  0.0  0.0  0.0  0.000000  0.000000  0.0  0.000000  0.0   \n",
              "абп               0.0  0.0  0.0  0.0  0.000000  0.000000  0.0  0.000000  0.0   \n",
              "административный  0.0  0.0  0.0  0.0  0.000000  0.000000  0.0  0.000000  0.0   \n",
              "...               ...  ...  ...  ...       ...       ...  ...       ...  ...   \n",
              "электронный       0.0  0.0  0.0  0.0  0.567611  0.000000  0.0  0.521294  0.0   \n",
              "эп                0.0  0.0  0.0  0.0  0.000000  0.000000  0.0  0.000000  0.0   \n",
              "это               0.0  0.0  0.0  0.0  0.000000  0.000000  0.0  0.000000  0.0   \n",
              "юу                0.0  0.0  0.0  0.0  0.000000  0.000000  0.0  0.000000  0.0   \n",
              "ящик              0.0  0.0  0.0  0.0  0.000000  0.000000  0.0  0.000000  0.0   \n",
              "\n",
              "                       9    ...  585  586  587  588  589  590  591  592  593  \\\n",
              "ds                0.000000  ...  0.0  0.0  0.0  0.0  0.0  0.0  0.0  0.0  0.0   \n",
              "аббревиатура      0.000000  ...  0.0  0.0  0.0  0.0  0.0  0.0  0.0  0.0  0.0   \n",
              "аббривеиатура     0.000000  ...  0.0  0.0  0.0  0.0  0.0  0.0  0.0  0.0  0.0   \n",
              "абп               0.000000  ...  0.0  0.0  0.0  0.0  0.0  0.0  0.0  0.0  0.0   \n",
              "административный  0.000000  ...  0.0  0.0  0.0  0.0  0.0  0.0  0.0  0.0  0.0   \n",
              "...                    ...  ...  ...  ...  ...  ...  ...  ...  ...  ...  ...   \n",
              "электронный       0.567611  ...  0.0  0.0  0.0  0.0  0.0  0.0  0.0  0.0  0.0   \n",
              "эп                0.000000  ...  0.0  0.0  0.0  0.0  0.0  0.0  0.0  0.0  0.0   \n",
              "это               0.000000  ...  0.0  0.0  0.0  0.0  0.0  0.0  0.0  0.0  0.0   \n",
              "юу                0.000000  ...  0.0  0.0  0.0  0.0  0.0  0.0  0.0  0.0  0.0   \n",
              "ящик              0.000000  ...  0.0  0.0  0.0  0.0  0.0  0.0  0.0  0.0  0.0   \n",
              "\n",
              "                  594  \n",
              "ds                0.0  \n",
              "аббревиатура      0.0  \n",
              "аббривеиатура     0.0  \n",
              "абп               0.0  \n",
              "административный  0.0  \n",
              "...               ...  \n",
              "электронный       0.0  \n",
              "эп                0.0  \n",
              "это               0.0  \n",
              "юу                0.0  \n",
              "ящик              0.0  \n",
              "\n",
              "[352 rows x 595 columns]"
            ],
            "text/html": [
              "\n",
              "\n",
              "  <div id=\"df-30c106d5-887a-461a-95fa-b24701c21658\">\n",
              "    <div class=\"colab-df-container\">\n",
              "      <div>\n",
              "<style scoped>\n",
              "    .dataframe tbody tr th:only-of-type {\n",
              "        vertical-align: middle;\n",
              "    }\n",
              "\n",
              "    .dataframe tbody tr th {\n",
              "        vertical-align: top;\n",
              "    }\n",
              "\n",
              "    .dataframe thead th {\n",
              "        text-align: right;\n",
              "    }\n",
              "</style>\n",
              "<table border=\"1\" class=\"dataframe\">\n",
              "  <thead>\n",
              "    <tr style=\"text-align: right;\">\n",
              "      <th></th>\n",
              "      <th>0</th>\n",
              "      <th>1</th>\n",
              "      <th>2</th>\n",
              "      <th>3</th>\n",
              "      <th>4</th>\n",
              "      <th>5</th>\n",
              "      <th>6</th>\n",
              "      <th>7</th>\n",
              "      <th>8</th>\n",
              "      <th>9</th>\n",
              "      <th>...</th>\n",
              "      <th>585</th>\n",
              "      <th>586</th>\n",
              "      <th>587</th>\n",
              "      <th>588</th>\n",
              "      <th>589</th>\n",
              "      <th>590</th>\n",
              "      <th>591</th>\n",
              "      <th>592</th>\n",
              "      <th>593</th>\n",
              "      <th>594</th>\n",
              "    </tr>\n",
              "  </thead>\n",
              "  <tbody>\n",
              "    <tr>\n",
              "      <th>ds</th>\n",
              "      <td>0.0</td>\n",
              "      <td>0.0</td>\n",
              "      <td>0.0</td>\n",
              "      <td>0.0</td>\n",
              "      <td>0.000000</td>\n",
              "      <td>0.000000</td>\n",
              "      <td>0.0</td>\n",
              "      <td>0.000000</td>\n",
              "      <td>0.0</td>\n",
              "      <td>0.000000</td>\n",
              "      <td>...</td>\n",
              "      <td>0.0</td>\n",
              "      <td>0.0</td>\n",
              "      <td>0.0</td>\n",
              "      <td>0.0</td>\n",
              "      <td>0.0</td>\n",
              "      <td>0.0</td>\n",
              "      <td>0.0</td>\n",
              "      <td>0.0</td>\n",
              "      <td>0.0</td>\n",
              "      <td>0.0</td>\n",
              "    </tr>\n",
              "    <tr>\n",
              "      <th>аббревиатура</th>\n",
              "      <td>0.0</td>\n",
              "      <td>0.0</td>\n",
              "      <td>0.0</td>\n",
              "      <td>0.0</td>\n",
              "      <td>0.000000</td>\n",
              "      <td>0.723755</td>\n",
              "      <td>0.0</td>\n",
              "      <td>0.000000</td>\n",
              "      <td>0.0</td>\n",
              "      <td>0.000000</td>\n",
              "      <td>...</td>\n",
              "      <td>0.0</td>\n",
              "      <td>0.0</td>\n",
              "      <td>0.0</td>\n",
              "      <td>0.0</td>\n",
              "      <td>0.0</td>\n",
              "      <td>0.0</td>\n",
              "      <td>0.0</td>\n",
              "      <td>0.0</td>\n",
              "      <td>0.0</td>\n",
              "      <td>0.0</td>\n",
              "    </tr>\n",
              "    <tr>\n",
              "      <th>аббривеиатура</th>\n",
              "      <td>0.0</td>\n",
              "      <td>0.0</td>\n",
              "      <td>0.0</td>\n",
              "      <td>0.0</td>\n",
              "      <td>0.000000</td>\n",
              "      <td>0.000000</td>\n",
              "      <td>0.0</td>\n",
              "      <td>0.000000</td>\n",
              "      <td>0.0</td>\n",
              "      <td>0.000000</td>\n",
              "      <td>...</td>\n",
              "      <td>0.0</td>\n",
              "      <td>0.0</td>\n",
              "      <td>0.0</td>\n",
              "      <td>0.0</td>\n",
              "      <td>0.0</td>\n",
              "      <td>0.0</td>\n",
              "      <td>0.0</td>\n",
              "      <td>0.0</td>\n",
              "      <td>0.0</td>\n",
              "      <td>0.0</td>\n",
              "    </tr>\n",
              "    <tr>\n",
              "      <th>абп</th>\n",
              "      <td>0.0</td>\n",
              "      <td>0.0</td>\n",
              "      <td>0.0</td>\n",
              "      <td>0.0</td>\n",
              "      <td>0.000000</td>\n",
              "      <td>0.000000</td>\n",
              "      <td>0.0</td>\n",
              "      <td>0.000000</td>\n",
              "      <td>0.0</td>\n",
              "      <td>0.000000</td>\n",
              "      <td>...</td>\n",
              "      <td>0.0</td>\n",
              "      <td>0.0</td>\n",
              "      <td>0.0</td>\n",
              "      <td>0.0</td>\n",
              "      <td>0.0</td>\n",
              "      <td>0.0</td>\n",
              "      <td>0.0</td>\n",
              "      <td>0.0</td>\n",
              "      <td>0.0</td>\n",
              "      <td>0.0</td>\n",
              "    </tr>\n",
              "    <tr>\n",
              "      <th>административный</th>\n",
              "      <td>0.0</td>\n",
              "      <td>0.0</td>\n",
              "      <td>0.0</td>\n",
              "      <td>0.0</td>\n",
              "      <td>0.000000</td>\n",
              "      <td>0.000000</td>\n",
              "      <td>0.0</td>\n",
              "      <td>0.000000</td>\n",
              "      <td>0.0</td>\n",
              "      <td>0.000000</td>\n",
              "      <td>...</td>\n",
              "      <td>0.0</td>\n",
              "      <td>0.0</td>\n",
              "      <td>0.0</td>\n",
              "      <td>0.0</td>\n",
              "      <td>0.0</td>\n",
              "      <td>0.0</td>\n",
              "      <td>0.0</td>\n",
              "      <td>0.0</td>\n",
              "      <td>0.0</td>\n",
              "      <td>0.0</td>\n",
              "    </tr>\n",
              "    <tr>\n",
              "      <th>...</th>\n",
              "      <td>...</td>\n",
              "      <td>...</td>\n",
              "      <td>...</td>\n",
              "      <td>...</td>\n",
              "      <td>...</td>\n",
              "      <td>...</td>\n",
              "      <td>...</td>\n",
              "      <td>...</td>\n",
              "      <td>...</td>\n",
              "      <td>...</td>\n",
              "      <td>...</td>\n",
              "      <td>...</td>\n",
              "      <td>...</td>\n",
              "      <td>...</td>\n",
              "      <td>...</td>\n",
              "      <td>...</td>\n",
              "      <td>...</td>\n",
              "      <td>...</td>\n",
              "      <td>...</td>\n",
              "      <td>...</td>\n",
              "      <td>...</td>\n",
              "    </tr>\n",
              "    <tr>\n",
              "      <th>электронный</th>\n",
              "      <td>0.0</td>\n",
              "      <td>0.0</td>\n",
              "      <td>0.0</td>\n",
              "      <td>0.0</td>\n",
              "      <td>0.567611</td>\n",
              "      <td>0.000000</td>\n",
              "      <td>0.0</td>\n",
              "      <td>0.521294</td>\n",
              "      <td>0.0</td>\n",
              "      <td>0.567611</td>\n",
              "      <td>...</td>\n",
              "      <td>0.0</td>\n",
              "      <td>0.0</td>\n",
              "      <td>0.0</td>\n",
              "      <td>0.0</td>\n",
              "      <td>0.0</td>\n",
              "      <td>0.0</td>\n",
              "      <td>0.0</td>\n",
              "      <td>0.0</td>\n",
              "      <td>0.0</td>\n",
              "      <td>0.0</td>\n",
              "    </tr>\n",
              "    <tr>\n",
              "      <th>эп</th>\n",
              "      <td>0.0</td>\n",
              "      <td>0.0</td>\n",
              "      <td>0.0</td>\n",
              "      <td>0.0</td>\n",
              "      <td>0.000000</td>\n",
              "      <td>0.000000</td>\n",
              "      <td>0.0</td>\n",
              "      <td>0.000000</td>\n",
              "      <td>0.0</td>\n",
              "      <td>0.000000</td>\n",
              "      <td>...</td>\n",
              "      <td>0.0</td>\n",
              "      <td>0.0</td>\n",
              "      <td>0.0</td>\n",
              "      <td>0.0</td>\n",
              "      <td>0.0</td>\n",
              "      <td>0.0</td>\n",
              "      <td>0.0</td>\n",
              "      <td>0.0</td>\n",
              "      <td>0.0</td>\n",
              "      <td>0.0</td>\n",
              "    </tr>\n",
              "    <tr>\n",
              "      <th>это</th>\n",
              "      <td>0.0</td>\n",
              "      <td>0.0</td>\n",
              "      <td>0.0</td>\n",
              "      <td>0.0</td>\n",
              "      <td>0.000000</td>\n",
              "      <td>0.000000</td>\n",
              "      <td>0.0</td>\n",
              "      <td>0.000000</td>\n",
              "      <td>0.0</td>\n",
              "      <td>0.000000</td>\n",
              "      <td>...</td>\n",
              "      <td>0.0</td>\n",
              "      <td>0.0</td>\n",
              "      <td>0.0</td>\n",
              "      <td>0.0</td>\n",
              "      <td>0.0</td>\n",
              "      <td>0.0</td>\n",
              "      <td>0.0</td>\n",
              "      <td>0.0</td>\n",
              "      <td>0.0</td>\n",
              "      <td>0.0</td>\n",
              "    </tr>\n",
              "    <tr>\n",
              "      <th>юу</th>\n",
              "      <td>0.0</td>\n",
              "      <td>0.0</td>\n",
              "      <td>0.0</td>\n",
              "      <td>0.0</td>\n",
              "      <td>0.000000</td>\n",
              "      <td>0.000000</td>\n",
              "      <td>0.0</td>\n",
              "      <td>0.000000</td>\n",
              "      <td>0.0</td>\n",
              "      <td>0.000000</td>\n",
              "      <td>...</td>\n",
              "      <td>0.0</td>\n",
              "      <td>0.0</td>\n",
              "      <td>0.0</td>\n",
              "      <td>0.0</td>\n",
              "      <td>0.0</td>\n",
              "      <td>0.0</td>\n",
              "      <td>0.0</td>\n",
              "      <td>0.0</td>\n",
              "      <td>0.0</td>\n",
              "      <td>0.0</td>\n",
              "    </tr>\n",
              "    <tr>\n",
              "      <th>ящик</th>\n",
              "      <td>0.0</td>\n",
              "      <td>0.0</td>\n",
              "      <td>0.0</td>\n",
              "      <td>0.0</td>\n",
              "      <td>0.000000</td>\n",
              "      <td>0.000000</td>\n",
              "      <td>0.0</td>\n",
              "      <td>0.000000</td>\n",
              "      <td>0.0</td>\n",
              "      <td>0.000000</td>\n",
              "      <td>...</td>\n",
              "      <td>0.0</td>\n",
              "      <td>0.0</td>\n",
              "      <td>0.0</td>\n",
              "      <td>0.0</td>\n",
              "      <td>0.0</td>\n",
              "      <td>0.0</td>\n",
              "      <td>0.0</td>\n",
              "      <td>0.0</td>\n",
              "      <td>0.0</td>\n",
              "      <td>0.0</td>\n",
              "    </tr>\n",
              "  </tbody>\n",
              "</table>\n",
              "<p>352 rows × 595 columns</p>\n",
              "</div>\n",
              "      <button class=\"colab-df-convert\" onclick=\"convertToInteractive('df-30c106d5-887a-461a-95fa-b24701c21658')\"\n",
              "              title=\"Convert this dataframe to an interactive table.\"\n",
              "              style=\"display:none;\">\n",
              "\n",
              "  <svg xmlns=\"http://www.w3.org/2000/svg\" height=\"24px\"viewBox=\"0 0 24 24\"\n",
              "       width=\"24px\">\n",
              "    <path d=\"M0 0h24v24H0V0z\" fill=\"none\"/>\n",
              "    <path d=\"M18.56 5.44l.94 2.06.94-2.06 2.06-.94-2.06-.94-.94-2.06-.94 2.06-2.06.94zm-11 1L8.5 8.5l.94-2.06 2.06-.94-2.06-.94L8.5 2.5l-.94 2.06-2.06.94zm10 10l.94 2.06.94-2.06 2.06-.94-2.06-.94-.94-2.06-.94 2.06-2.06.94z\"/><path d=\"M17.41 7.96l-1.37-1.37c-.4-.4-.92-.59-1.43-.59-.52 0-1.04.2-1.43.59L10.3 9.45l-7.72 7.72c-.78.78-.78 2.05 0 2.83L4 21.41c.39.39.9.59 1.41.59.51 0 1.02-.2 1.41-.59l7.78-7.78 2.81-2.81c.8-.78.8-2.07 0-2.86zM5.41 20L4 18.59l7.72-7.72 1.47 1.35L5.41 20z\"/>\n",
              "  </svg>\n",
              "      </button>\n",
              "\n",
              "\n",
              "\n",
              "    <div id=\"df-1b3e4517-545a-4db1-9248-15b900e2efa5\">\n",
              "      <button class=\"colab-df-quickchart\" onclick=\"quickchart('df-1b3e4517-545a-4db1-9248-15b900e2efa5')\"\n",
              "              title=\"Suggest charts.\"\n",
              "              style=\"display:none;\">\n",
              "\n",
              "<svg xmlns=\"http://www.w3.org/2000/svg\" height=\"24px\"viewBox=\"0 0 24 24\"\n",
              "     width=\"24px\">\n",
              "    <g>\n",
              "        <path d=\"M19 3H5c-1.1 0-2 .9-2 2v14c0 1.1.9 2 2 2h14c1.1 0 2-.9 2-2V5c0-1.1-.9-2-2-2zM9 17H7v-7h2v7zm4 0h-2V7h2v10zm4 0h-2v-4h2v4z\"/>\n",
              "    </g>\n",
              "</svg>\n",
              "      </button>\n",
              "    </div>\n",
              "\n",
              "<style>\n",
              "  .colab-df-quickchart {\n",
              "    background-color: #E8F0FE;\n",
              "    border: none;\n",
              "    border-radius: 50%;\n",
              "    cursor: pointer;\n",
              "    display: none;\n",
              "    fill: #1967D2;\n",
              "    height: 32px;\n",
              "    padding: 0 0 0 0;\n",
              "    width: 32px;\n",
              "  }\n",
              "\n",
              "  .colab-df-quickchart:hover {\n",
              "    background-color: #E2EBFA;\n",
              "    box-shadow: 0px 1px 2px rgba(60, 64, 67, 0.3), 0px 1px 3px 1px rgba(60, 64, 67, 0.15);\n",
              "    fill: #174EA6;\n",
              "  }\n",
              "\n",
              "  [theme=dark] .colab-df-quickchart {\n",
              "    background-color: #3B4455;\n",
              "    fill: #D2E3FC;\n",
              "  }\n",
              "\n",
              "  [theme=dark] .colab-df-quickchart:hover {\n",
              "    background-color: #434B5C;\n",
              "    box-shadow: 0px 1px 3px 1px rgba(0, 0, 0, 0.15);\n",
              "    filter: drop-shadow(0px 1px 2px rgba(0, 0, 0, 0.3));\n",
              "    fill: #FFFFFF;\n",
              "  }\n",
              "</style>\n",
              "\n",
              "    <script>\n",
              "      async function quickchart(key) {\n",
              "        const containerElement = document.querySelector('#' + key);\n",
              "        const charts = await google.colab.kernel.invokeFunction(\n",
              "            'suggestCharts', [key], {});\n",
              "      }\n",
              "    </script>\n",
              "\n",
              "      <script>\n",
              "\n",
              "function displayQuickchartButton(domScope) {\n",
              "  let quickchartButtonEl =\n",
              "    domScope.querySelector('#df-1b3e4517-545a-4db1-9248-15b900e2efa5 button.colab-df-quickchart');\n",
              "  quickchartButtonEl.style.display =\n",
              "    google.colab.kernel.accessAllowed ? 'block' : 'none';\n",
              "}\n",
              "\n",
              "        displayQuickchartButton(document);\n",
              "      </script>\n",
              "      <style>\n",
              "    .colab-df-container {\n",
              "      display:flex;\n",
              "      flex-wrap:wrap;\n",
              "      gap: 12px;\n",
              "    }\n",
              "\n",
              "    .colab-df-convert {\n",
              "      background-color: #E8F0FE;\n",
              "      border: none;\n",
              "      border-radius: 50%;\n",
              "      cursor: pointer;\n",
              "      display: none;\n",
              "      fill: #1967D2;\n",
              "      height: 32px;\n",
              "      padding: 0 0 0 0;\n",
              "      width: 32px;\n",
              "    }\n",
              "\n",
              "    .colab-df-convert:hover {\n",
              "      background-color: #E2EBFA;\n",
              "      box-shadow: 0px 1px 2px rgba(60, 64, 67, 0.3), 0px 1px 3px 1px rgba(60, 64, 67, 0.15);\n",
              "      fill: #174EA6;\n",
              "    }\n",
              "\n",
              "    [theme=dark] .colab-df-convert {\n",
              "      background-color: #3B4455;\n",
              "      fill: #D2E3FC;\n",
              "    }\n",
              "\n",
              "    [theme=dark] .colab-df-convert:hover {\n",
              "      background-color: #434B5C;\n",
              "      box-shadow: 0px 1px 3px 1px rgba(0, 0, 0, 0.15);\n",
              "      filter: drop-shadow(0px 1px 2px rgba(0, 0, 0, 0.3));\n",
              "      fill: #FFFFFF;\n",
              "    }\n",
              "  </style>\n",
              "\n",
              "      <script>\n",
              "        const buttonEl =\n",
              "          document.querySelector('#df-30c106d5-887a-461a-95fa-b24701c21658 button.colab-df-convert');\n",
              "        buttonEl.style.display =\n",
              "          google.colab.kernel.accessAllowed ? 'block' : 'none';\n",
              "\n",
              "        async function convertToInteractive(key) {\n",
              "          const element = document.querySelector('#df-30c106d5-887a-461a-95fa-b24701c21658');\n",
              "          const dataTable =\n",
              "            await google.colab.kernel.invokeFunction('convertToInteractive',\n",
              "                                                     [key], {});\n",
              "          if (!dataTable) return;\n",
              "\n",
              "          const docLinkHtml = 'Like what you see? Visit the ' +\n",
              "            '<a target=\"_blank\" href=https://colab.research.google.com/notebooks/data_table.ipynb>data table notebook</a>'\n",
              "            + ' to learn more about interactive tables.';\n",
              "          element.innerHTML = '';\n",
              "          dataTable['output_type'] = 'display_data';\n",
              "          await google.colab.output.renderOutput(dataTable, element);\n",
              "          const docLink = document.createElement('div');\n",
              "          docLink.innerHTML = docLinkHtml;\n",
              "          element.appendChild(docLink);\n",
              "        }\n",
              "      </script>\n",
              "    </div>\n",
              "  </div>\n"
            ]
          },
          "metadata": {},
          "execution_count": 59
        }
      ]
    },
    {
      "cell_type": "markdown",
      "source": [
        "Рассчитаем среднее значение TF-IDF для каждого слова по всем текстам."
      ],
      "metadata": {
        "id": "S35tztbknxwI"
      }
    },
    {
      "cell_type": "markdown",
      "source": [
        "#### Обучение модели на основе случайного леса"
      ],
      "metadata": {
        "id": "6CCplyDLqvKL"
      }
    },
    {
      "cell_type": "code",
      "execution_count": 60,
      "metadata": {
        "id": "bE4zn-kb_dm5",
        "colab": {
          "base_uri": "https://localhost:8080/",
          "height": 75
        },
        "outputId": "cf57a901-bbd8-41bc-c6bb-72e39e236324"
      },
      "outputs": [
        {
          "output_type": "execute_result",
          "data": {
            "text/plain": [
              "RandomForestClassifier(n_estimators=1000, random_state=3)"
            ],
            "text/html": [
              "<style>#sk-container-id-1 {color: black;background-color: white;}#sk-container-id-1 pre{padding: 0;}#sk-container-id-1 div.sk-toggleable {background-color: white;}#sk-container-id-1 label.sk-toggleable__label {cursor: pointer;display: block;width: 100%;margin-bottom: 0;padding: 0.3em;box-sizing: border-box;text-align: center;}#sk-container-id-1 label.sk-toggleable__label-arrow:before {content: \"▸\";float: left;margin-right: 0.25em;color: #696969;}#sk-container-id-1 label.sk-toggleable__label-arrow:hover:before {color: black;}#sk-container-id-1 div.sk-estimator:hover label.sk-toggleable__label-arrow:before {color: black;}#sk-container-id-1 div.sk-toggleable__content {max-height: 0;max-width: 0;overflow: hidden;text-align: left;background-color: #f0f8ff;}#sk-container-id-1 div.sk-toggleable__content pre {margin: 0.2em;color: black;border-radius: 0.25em;background-color: #f0f8ff;}#sk-container-id-1 input.sk-toggleable__control:checked~div.sk-toggleable__content {max-height: 200px;max-width: 100%;overflow: auto;}#sk-container-id-1 input.sk-toggleable__control:checked~label.sk-toggleable__label-arrow:before {content: \"▾\";}#sk-container-id-1 div.sk-estimator input.sk-toggleable__control:checked~label.sk-toggleable__label {background-color: #d4ebff;}#sk-container-id-1 div.sk-label input.sk-toggleable__control:checked~label.sk-toggleable__label {background-color: #d4ebff;}#sk-container-id-1 input.sk-hidden--visually {border: 0;clip: rect(1px 1px 1px 1px);clip: rect(1px, 1px, 1px, 1px);height: 1px;margin: -1px;overflow: hidden;padding: 0;position: absolute;width: 1px;}#sk-container-id-1 div.sk-estimator {font-family: monospace;background-color: #f0f8ff;border: 1px dotted black;border-radius: 0.25em;box-sizing: border-box;margin-bottom: 0.5em;}#sk-container-id-1 div.sk-estimator:hover {background-color: #d4ebff;}#sk-container-id-1 div.sk-parallel-item::after {content: \"\";width: 100%;border-bottom: 1px solid gray;flex-grow: 1;}#sk-container-id-1 div.sk-label:hover label.sk-toggleable__label {background-color: #d4ebff;}#sk-container-id-1 div.sk-serial::before {content: \"\";position: absolute;border-left: 1px solid gray;box-sizing: border-box;top: 0;bottom: 0;left: 50%;z-index: 0;}#sk-container-id-1 div.sk-serial {display: flex;flex-direction: column;align-items: center;background-color: white;padding-right: 0.2em;padding-left: 0.2em;position: relative;}#sk-container-id-1 div.sk-item {position: relative;z-index: 1;}#sk-container-id-1 div.sk-parallel {display: flex;align-items: stretch;justify-content: center;background-color: white;position: relative;}#sk-container-id-1 div.sk-item::before, #sk-container-id-1 div.sk-parallel-item::before {content: \"\";position: absolute;border-left: 1px solid gray;box-sizing: border-box;top: 0;bottom: 0;left: 50%;z-index: -1;}#sk-container-id-1 div.sk-parallel-item {display: flex;flex-direction: column;z-index: 1;position: relative;background-color: white;}#sk-container-id-1 div.sk-parallel-item:first-child::after {align-self: flex-end;width: 50%;}#sk-container-id-1 div.sk-parallel-item:last-child::after {align-self: flex-start;width: 50%;}#sk-container-id-1 div.sk-parallel-item:only-child::after {width: 0;}#sk-container-id-1 div.sk-dashed-wrapped {border: 1px dashed gray;margin: 0 0.4em 0.5em 0.4em;box-sizing: border-box;padding-bottom: 0.4em;background-color: white;}#sk-container-id-1 div.sk-label label {font-family: monospace;font-weight: bold;display: inline-block;line-height: 1.2em;}#sk-container-id-1 div.sk-label-container {text-align: center;}#sk-container-id-1 div.sk-container {/* jupyter's `normalize.less` sets `[hidden] { display: none; }` but bootstrap.min.css set `[hidden] { display: none !important; }` so we also need the `!important` here to be able to override the default hidden behavior on the sphinx rendered scikit-learn.org. See: https://github.com/scikit-learn/scikit-learn/issues/21755 */display: inline-block !important;position: relative;}#sk-container-id-1 div.sk-text-repr-fallback {display: none;}</style><div id=\"sk-container-id-1\" class=\"sk-top-container\"><div class=\"sk-text-repr-fallback\"><pre>RandomForestClassifier(n_estimators=1000, random_state=3)</pre><b>In a Jupyter environment, please rerun this cell to show the HTML representation or trust the notebook. <br />On GitHub, the HTML representation is unable to render, please try loading this page with nbviewer.org.</b></div><div class=\"sk-container\" hidden><div class=\"sk-item\"><div class=\"sk-estimator sk-toggleable\"><input class=\"sk-toggleable__control sk-hidden--visually\" id=\"sk-estimator-id-1\" type=\"checkbox\" checked><label for=\"sk-estimator-id-1\" class=\"sk-toggleable__label sk-toggleable__label-arrow\">RandomForestClassifier</label><div class=\"sk-toggleable__content\"><pre>RandomForestClassifier(n_estimators=1000, random_state=3)</pre></div></div></div></div></div>"
            ]
          },
          "metadata": {},
          "execution_count": 60
        }
      ],
      "source": [
        "from sklearn.model_selection import train_test_split\n",
        "from sklearn.ensemble import RandomForestClassifier\n",
        "\n",
        "X_train, X_test, y_train, y_test = train_test_split(df_tfidf,label,stratify=label,test_size=0.25,random_state=42)\n",
        "classifier = RandomForestClassifier(n_estimators=1000, random_state=3)\n",
        "classifier.fit(X_train, y_train)"
      ]
    },
    {
      "cell_type": "markdown",
      "source": [
        "Метрики обучения модели"
      ],
      "metadata": {
        "id": "I9VbeCcBq1SE"
      }
    },
    {
      "cell_type": "code",
      "execution_count": 61,
      "metadata": {
        "colab": {
          "base_uri": "https://localhost:8080/"
        },
        "id": "ZlUhFVfuADHK",
        "outputId": "d3d94fb4-8bc4-4ce0-91a1-14a582c9dcfa"
      },
      "outputs": [
        {
          "output_type": "stream",
          "name": "stdout",
          "text": [
            "[[ 6  0  0  0  0  0  0  0  0  0  0  0  0  0  0  0  0  0  0  0  0  0  0  0\n",
            "   0  0  0  0]\n",
            " [ 0  9  0  0  0  0  1  0  0  0  0  0  0  0  0  0  0  0  0  0  0  0  0  0\n",
            "   0  0  0  0]\n",
            " [ 0  0  0  0  0  0  1  0  1  0  0  0  0  0  1  0  0  0  0  0  0  0  0  0\n",
            "   0  0  0  0]\n",
            " [ 0  0  0  4  0  0  1  0  0  0  0  0  0  0  0  0  0  0  0  0  0  0  1  0\n",
            "   0  0  0  0]\n",
            " [ 0  0  0  0  3  0  0  0  0  0  0  0  0  0  0  0  2  2  0  0  0  0  0  0\n",
            "   0  0  0  0]\n",
            " [ 0  0  0  0  0  2  0  0  0  0  0  0  0  0  0  0  0  0  0  0  0  1  0  0\n",
            "   0  0  0  0]\n",
            " [ 0  0  0  0  0  0 11  0  0  0  0  0  0  0  0  0  0  0  0  0  0  0  0  0\n",
            "   0  0  0  0]\n",
            " [ 0  0  0  0  0  0  0  3  0  0  0  0  0  0  0  0  0  0  0  0  0  0  0  1\n",
            "   0  0  0  0]\n",
            " [ 0  0  0  0  0  0  0  0  2  0  0  0  0  0  1  0  0  0  0  0  0  0  0  0\n",
            "   0  0  0  0]\n",
            " [ 0  0  0  0  0  0  0  0  0  3  0  0  0  0  0  0  0  0  0  0  0  0  0  0\n",
            "   0  0  0  0]\n",
            " [ 0  0  0  0  0  0  0  0  0  0  4  0  0  0  0  0  0  0  0  0  0  0  0  0\n",
            "   0  0  0  0]\n",
            " [ 0  0  0  0  0  0  0  0  0  0  0  4  0  0  0  0  0  0  0  0  0  0  0  0\n",
            "   0  0  0  0]\n",
            " [ 0  0  0  0  0  0  0  0  0  0  0  0  4  0  0  0  0  0  0  0  0  0  0  0\n",
            "   0  0  0  0]\n",
            " [ 0  0  0  0  0  0  0  0  0  0  0  0  0  3  0  0  0  0  0  0  0  0  0  0\n",
            "   0  0  0  0]\n",
            " [ 0  0  0  0  0  0  0  0  0  0  0  0  0  0  5  0  0  0  0  0  0  0  0  0\n",
            "   0  0  0  0]\n",
            " [ 0  0  0  0  0  0  0  0  0  0  0  0  0  0  0  7  0  0  0  0  0  0  0  0\n",
            "   0  0  0  0]\n",
            " [ 0  0  0  0  1  0  0  0  0  0  0  0  0  0  0  0  3  1  0  0  0  0  0  0\n",
            "   0  0  0  0]\n",
            " [ 0  1  0  0  0  0  1  0  0  0  0  0  0  0  0  0  0  3  0  0  0  0  0  0\n",
            "   0  0  0  0]\n",
            " [ 0  0  0  0  0  0  0  0  0  0  0  0  0  0  0  0  0  0  3  0  0  0  0  0\n",
            "   0  0  0  0]\n",
            " [ 0  0  0  0  0  0  0  0  0  0  0  0  0  0  0  0  0  0  0  6  0  0  0  0\n",
            "   0  0  0  0]\n",
            " [ 0  0  0  0  0  0  3  0  0  0  0  0  0  0  0  0  0  0  0  0  5  0  0  0\n",
            "   0  0  0  0]\n",
            " [ 0  0  0  0  0  1  0  0  0  0  0  0  0  0  0  0  0  0  0  0  0  6  0  0\n",
            "   0  0  0  0]\n",
            " [ 0  0  0  0  0  0  0  0  0  0  0  0  0  0  0  0  0  0  0  0  0  0  6  0\n",
            "   0  0  0  1]\n",
            " [ 0  0  0  0  0  0  0  1  0  0  0  0  0  0  0  0  0  0  0  0  0  0  0  5\n",
            "   0  0  0  0]\n",
            " [ 0  0  0  0  0  0  0  0  0  0  0  0  0  0  0  0  0  0  0  0  0  0  0  0\n",
            "   9  0  0  0]\n",
            " [ 0  0  0  0  0  0  0  0  0  0  0  0  0  0  0  0  0  0  0  0  0  0  0  0\n",
            "   0  3  0  0]\n",
            " [ 0  0  0  0  0  0  0  0  0  0  0  0  0  0  0  0  0  0  0  0  0  0  0  1\n",
            "   0  0  2  0]\n",
            " [ 0  0  0  0  0  0  1  0  0  1  0  0  0  0  0  0  0  0  0  0  0  0  0  0\n",
            "   0  0  0  2]]\n",
            "                                       precision    recall  f1-score   support\n",
            "\n",
            "                               АС МИО       1.00      1.00      1.00         6\n",
            "                         АЦК Госзаказ       0.90      0.90      0.90        10\n",
            "                                Адрес       0.00      0.00      0.00         3\n",
            "                            Госуслуги       1.00      0.67      0.80         6\n",
            "                         Доступ к ВС.       0.75      0.43      0.55         7\n",
            "                       Доступ к ЛК УВ       0.67      0.67      0.67         3\n",
            "                               Заявка       0.58      1.00      0.73        11\n",
            "                               ИС АБП       0.75      0.75      0.75         4\n",
            "                                  Имя       0.67      0.67      0.67         3\n",
            "Квалифицированная электронная подпись       0.75      1.00      0.86         3\n",
            "                          Контакты УЦ       1.00      1.00      1.00         4\n",
            "          Контакты тех.поддержки СМЭВ       1.00      1.00      1.00         4\n",
            "                              Министр       1.00      1.00      1.00         4\n",
            "                            Мнемоника       1.00      1.00      1.00         3\n",
            "                               О себе       0.71      1.00      0.83         5\n",
            "        Переименовать систему в ЛК УВ       1.00      1.00      1.00         7\n",
            "          Перечень видов сведений(ВС)       0.60      0.60      0.60         5\n",
            "               Получения доступа к ВС       0.50      0.60      0.55         5\n",
            "            Порядок получения dst/дст       1.00      1.00      1.00         3\n",
            "                                Почта       1.00      1.00      1.00         6\n",
            "                          Приветствие       1.00      0.62      0.77         8\n",
            "                     Проблемы с ЛК УВ       0.86      0.86      0.86         7\n",
            "                                  РГУ       0.86      0.86      0.86         7\n",
            "                  Регистрация в СМЭВ        0.71      0.83      0.77         6\n",
            "                                Тезис       1.00      1.00      1.00         9\n",
            "                      Что такое ЛК УВ       1.00      1.00      1.00         3\n",
            "                       Что такое СМЭВ       1.00      0.67      0.80         3\n",
            "                   Электронный бюджет       0.67      0.50      0.57         4\n",
            "\n",
            "                             accuracy                           0.83       149\n",
            "                            macro avg       0.82      0.81      0.80       149\n",
            "                         weighted avg       0.83      0.83      0.82       149\n",
            "\n",
            "0.825503355704698\n"
          ]
        },
        {
          "output_type": "stream",
          "name": "stderr",
          "text": [
            "/usr/local/lib/python3.10/dist-packages/sklearn/metrics/_classification.py:1344: UndefinedMetricWarning: Precision and F-score are ill-defined and being set to 0.0 in labels with no predicted samples. Use `zero_division` parameter to control this behavior.\n",
            "  _warn_prf(average, modifier, msg_start, len(result))\n",
            "/usr/local/lib/python3.10/dist-packages/sklearn/metrics/_classification.py:1344: UndefinedMetricWarning: Precision and F-score are ill-defined and being set to 0.0 in labels with no predicted samples. Use `zero_division` parameter to control this behavior.\n",
            "  _warn_prf(average, modifier, msg_start, len(result))\n",
            "/usr/local/lib/python3.10/dist-packages/sklearn/metrics/_classification.py:1344: UndefinedMetricWarning: Precision and F-score are ill-defined and being set to 0.0 in labels with no predicted samples. Use `zero_division` parameter to control this behavior.\n",
            "  _warn_prf(average, modifier, msg_start, len(result))\n"
          ]
        }
      ],
      "source": [
        "y_pred = classifier.predict(X_test)\n",
        "from sklearn.metrics import classification_report, confusion_matrix, accuracy_score\n",
        "\n",
        "print(confusion_matrix(y_test,y_pred))\n",
        "print(classification_report(y_test,y_pred))\n",
        "print(accuracy_score(y_test, y_pred))"
      ]
    },
    {
      "cell_type": "markdown",
      "source": [
        "Точность 80 процентов обусловлена маленьким кол-вом данных"
      ],
      "metadata": {
        "id": "-ZksMwVcVdjH"
      }
    },
    {
      "cell_type": "markdown",
      "source": [
        "Предсказание результатов"
      ],
      "metadata": {
        "id": "7nQcxd1Xq8WA"
      }
    },
    {
      "cell_type": "code",
      "source": [
        "docs=[]\n",
        "threshold = 0.5\n",
        "tries=3\n",
        "history=[]\n",
        "index=0\n",
        "\n",
        "while tries!=0:\n",
        "  docs=[]\n",
        "  qustion=input('Введите сообщение!: ')\n",
        "  docs.append(qustion)\n",
        "  history.append(qustion)\n",
        "  docs=tfidfconverter.transform(docs)\n",
        "  # Make predictions on the new documents\n",
        "  predicted = classifier.predict(docs)\n",
        "  nonzero_indices = docs.nonzero()\n",
        "\n",
        "  if (len(nonzero_indices[0])> 0) and (len(nonzero_indices[1]>0)):\n",
        "      weights = [docs[i, j] for i, j in zip(nonzero_indices[0], nonzero_indices[1])]\n",
        "      maximum_weight = max(weights)\n",
        "\n",
        "      if(maximum_weight>=threshold):\n",
        "        index=df[df['Категория'] == predicted[0]]['Ответ'].index[0]\n",
        "        print(df[df['Категория'] == predicted[0]]['Ответ'][index])\n",
        "      else:\n",
        "        tries-=1\n",
        "        print(f\"Повторите попытку! Осталось {tries} попыток\")\n",
        "  else:\n",
        "        tries-=1\n",
        "        print(f\"Повторите попытку! Осталось {tries} попыток\")\n"
      ],
      "metadata": {
        "id": "B2QBqoQ0tK6M",
        "colab": {
          "base_uri": "https://localhost:8080/",
          "height": 904
        },
        "outputId": "125f8816-e1f5-471f-db26-c327d8450434"
      },
      "execution_count": 62,
      "outputs": [
        {
          "name": "stdout",
          "output_type": "stream",
          "text": [
            "Введите сообщение!: привет\n"
          ]
        },
        {
          "output_type": "stream",
          "name": "stderr",
          "text": [
            "/usr/local/lib/python3.10/dist-packages/sklearn/base.py:439: UserWarning: X does not have valid feature names, but RandomForestClassifier was fitted with feature names\n",
            "  warnings.warn(\n"
          ]
        },
        {
          "output_type": "stream",
          "name": "stdout",
          "text": [
            "Вам необходимо обратиться с заявкой в тех поддержку ОГКУ \"ЦИТО\" по адресу sd@mininform74.ru. В крайнем случае Вы можете обратиться по номеру телефона: 8 (351) 211-68-21.\n",
            "Введите сообщение!: что умеешь?\n",
            "Я бот технической поддержки ОГКУ \"ЦИТО\". Могу ответить на вопросы про системы СМЭВ, ЛК УВ, ИС АБП. Подскажу как получить dst и зачем нужна мнемоника. Спрашивайте!\n",
            "Введите сообщение!: что такое смэв\n",
            "Система межведомственного электронного взаимодействия, предназначенная для организации информационного взаимодействия между информационными системами участников СМЭВ в целях предоставления государственных и муниципальных услуг и исполнения государственных и муниципальных функций в электронной форме.\n",
            "Введите сообщение!: что такое лк ув\n",
            "Личный кабинет участника взаимодействия (ЛК УВ) используется в\n",
            "организациях для регистрации информационных систем в СМЭВ 3, обновления\n",
            "сертификата ЭП информационной системы и получения доступа к\n",
            "видам сведений.\n",
            "Основные доступные возможности ЛК УВ:\n",
            "Регистрация информационных систем во всех средах СМЭВ, добавление и обновление сертификатов ЭП-ОВ информационных систем, создание специальных очередей в СМЭВ 3, создание и регистрация версий вида сведений в средах СМЭВ.\n",
            "\n",
            "Введите сообщение!: что такое ис абп\n",
            "ИС АБП – это интеллектуальная система автоматизации бизнес-процессов по обработке заявлений для перерегистрации информационных систем организаций в СМЭВ 2.\n",
            "Ссылка на ресурс: https://smev.gov74.ru/. \n",
            "Инструкция по работе с ИС АБП и порядок перерегистрации системы через ИС АБП размещен: https://sd.gov74.ru/sd/activity/SMEV.htm\n",
            "\n",
            "Введите сообщение!: как получить дст\n",
            "С порядком получения dst Вы можете ознакомиться на сайте: https://uc.mininform74.ru/Home/Interaction_dst. \n",
            "*заполненные документы необходимо направить для проверки на почту uc@mininform74.ru. \n",
            "*после прохождения проверки документов необходимо записаться на прием в УЦ. \n",
            "*консультацию по заполнению документов можно получить по номеру +7 (351) 263-64-36.\n",
            "\n",
            "Введите сообщение!: зачем нужна мнемоника\n",
            "Мнемоника ИС - это буквенно-цифровой код информационной системы Участника информационного взаимодействия, который присваивается ИС в процессе ее регистрации в СМЭВ. Мнемонику ИС Вы можете посмотреть в ЛК УВ в разделе «Информационные системы» - «Мои системы»,  либо через сервис ИС АБП (http://smev.gov74.ru/).\n"
          ]
        },
        {
          "output_type": "error",
          "ename": "KeyboardInterrupt",
          "evalue": "ignored",
          "traceback": [
            "\u001b[0;31m---------------------------------------------------------------------------\u001b[0m",
            "\u001b[0;31mKeyboardInterrupt\u001b[0m                         Traceback (most recent call last)",
            "\u001b[0;32m<ipython-input-62-96ab1b7a03ff>\u001b[0m in \u001b[0;36m<cell line: 7>\u001b[0;34m()\u001b[0m\n\u001b[1;32m      7\u001b[0m \u001b[0;32mwhile\u001b[0m \u001b[0mtries\u001b[0m\u001b[0;34m!=\u001b[0m\u001b[0;36m0\u001b[0m\u001b[0;34m:\u001b[0m\u001b[0;34m\u001b[0m\u001b[0;34m\u001b[0m\u001b[0m\n\u001b[1;32m      8\u001b[0m   \u001b[0mdocs\u001b[0m\u001b[0;34m=\u001b[0m\u001b[0;34m[\u001b[0m\u001b[0;34m]\u001b[0m\u001b[0;34m\u001b[0m\u001b[0;34m\u001b[0m\u001b[0m\n\u001b[0;32m----> 9\u001b[0;31m   \u001b[0mqustion\u001b[0m\u001b[0;34m=\u001b[0m\u001b[0minput\u001b[0m\u001b[0;34m(\u001b[0m\u001b[0;34m'Введите сообщение!: '\u001b[0m\u001b[0;34m)\u001b[0m\u001b[0;34m\u001b[0m\u001b[0;34m\u001b[0m\u001b[0m\n\u001b[0m\u001b[1;32m     10\u001b[0m   \u001b[0mdocs\u001b[0m\u001b[0;34m.\u001b[0m\u001b[0mappend\u001b[0m\u001b[0;34m(\u001b[0m\u001b[0mqustion\u001b[0m\u001b[0;34m)\u001b[0m\u001b[0;34m\u001b[0m\u001b[0;34m\u001b[0m\u001b[0m\n\u001b[1;32m     11\u001b[0m   \u001b[0mhistory\u001b[0m\u001b[0;34m.\u001b[0m\u001b[0mappend\u001b[0m\u001b[0;34m(\u001b[0m\u001b[0mqustion\u001b[0m\u001b[0;34m)\u001b[0m\u001b[0;34m\u001b[0m\u001b[0;34m\u001b[0m\u001b[0m\n",
            "\u001b[0;32m/usr/local/lib/python3.10/dist-packages/ipykernel/kernelbase.py\u001b[0m in \u001b[0;36mraw_input\u001b[0;34m(self, prompt)\u001b[0m\n\u001b[1;32m    849\u001b[0m                 \u001b[0;34m\"raw_input was called, but this frontend does not support input requests.\"\u001b[0m\u001b[0;34m\u001b[0m\u001b[0;34m\u001b[0m\u001b[0m\n\u001b[1;32m    850\u001b[0m             )\n\u001b[0;32m--> 851\u001b[0;31m         return self._input_request(str(prompt),\n\u001b[0m\u001b[1;32m    852\u001b[0m             \u001b[0mself\u001b[0m\u001b[0;34m.\u001b[0m\u001b[0m_parent_ident\u001b[0m\u001b[0;34m,\u001b[0m\u001b[0;34m\u001b[0m\u001b[0;34m\u001b[0m\u001b[0m\n\u001b[1;32m    853\u001b[0m             \u001b[0mself\u001b[0m\u001b[0;34m.\u001b[0m\u001b[0m_parent_header\u001b[0m\u001b[0;34m,\u001b[0m\u001b[0;34m\u001b[0m\u001b[0;34m\u001b[0m\u001b[0m\n",
            "\u001b[0;32m/usr/local/lib/python3.10/dist-packages/ipykernel/kernelbase.py\u001b[0m in \u001b[0;36m_input_request\u001b[0;34m(self, prompt, ident, parent, password)\u001b[0m\n\u001b[1;32m    893\u001b[0m             \u001b[0;32mexcept\u001b[0m \u001b[0mKeyboardInterrupt\u001b[0m\u001b[0;34m:\u001b[0m\u001b[0;34m\u001b[0m\u001b[0;34m\u001b[0m\u001b[0m\n\u001b[1;32m    894\u001b[0m                 \u001b[0;31m# re-raise KeyboardInterrupt, to truncate traceback\u001b[0m\u001b[0;34m\u001b[0m\u001b[0;34m\u001b[0m\u001b[0m\n\u001b[0;32m--> 895\u001b[0;31m                 \u001b[0;32mraise\u001b[0m \u001b[0mKeyboardInterrupt\u001b[0m\u001b[0;34m(\u001b[0m\u001b[0;34m\"Interrupted by user\"\u001b[0m\u001b[0;34m)\u001b[0m \u001b[0;32mfrom\u001b[0m \u001b[0;32mNone\u001b[0m\u001b[0;34m\u001b[0m\u001b[0;34m\u001b[0m\u001b[0m\n\u001b[0m\u001b[1;32m    896\u001b[0m             \u001b[0;32mexcept\u001b[0m \u001b[0mException\u001b[0m \u001b[0;32mas\u001b[0m \u001b[0me\u001b[0m\u001b[0;34m:\u001b[0m\u001b[0;34m\u001b[0m\u001b[0;34m\u001b[0m\u001b[0m\n\u001b[1;32m    897\u001b[0m                 \u001b[0mself\u001b[0m\u001b[0;34m.\u001b[0m\u001b[0mlog\u001b[0m\u001b[0;34m.\u001b[0m\u001b[0mwarning\u001b[0m\u001b[0;34m(\u001b[0m\u001b[0;34m\"Invalid Message:\"\u001b[0m\u001b[0;34m,\u001b[0m \u001b[0mexc_info\u001b[0m\u001b[0;34m=\u001b[0m\u001b[0;32mTrue\u001b[0m\u001b[0;34m)\u001b[0m\u001b[0;34m\u001b[0m\u001b[0;34m\u001b[0m\u001b[0m\n",
            "\u001b[0;31mKeyboardInterrupt\u001b[0m: Interrupted by user"
          ]
        }
      ]
    },
    {
      "cell_type": "code",
      "execution_count": 63,
      "metadata": {
        "id": "X-4Ny5Q8Yh1H",
        "colab": {
          "base_uri": "https://localhost:8080/"
        },
        "outputId": "f532f601-3f96-4e8d-bad8-40b57755617d"
      },
      "outputs": [
        {
          "output_type": "stream",
          "name": "stdout",
          "text": [
            "Приветствие\n",
            "О себе\n",
            "Что такое СМЭВ\n",
            "Что такое ЛК УВ\n",
            "There are no non-zero elements in the document.2\n",
            "Доступ к ВС.\n",
            "Имя\n",
            "Имя\n",
            "О себе\n"
          ]
        }
      ],
      "source": [
        "docs_new = ['здравствуйте', 'ты кто?','расскажи что такое смэв?','что такое лк ув','аааааа',\"как получить доступ к вс?\",\"как тебя зовут?\",\"какое у тебя имя\",\"что умеешь?\"]\n",
        "import numpy as np\n",
        "threshold = 0.5\n",
        "docs=tfidfconverter.transform(docs_new)\n",
        "# Make predictions on the new documents\n",
        "predicted = classifier.predict(docs)\n",
        "\n",
        "# Print the predictions\n",
        "for doc, category in zip(docs, predicted):\n",
        "  # print(f\"{doc} \")\n",
        "  nonzero_indices = doc.nonzero()\n",
        "  if len(nonzero_indices[0]) > 0:\n",
        "    weights = [doc[i, j] for i, j in zip(nonzero_indices[0], nonzero_indices[1])]\n",
        "    maximum_weight = max(weights)\n",
        "    # print(f\"The maximum weight is: {maximum_weight}\")\n",
        "    if(maximum_weight>=threshold):\n",
        "      print(category)\n",
        "    else:\n",
        "      print(\"There are no non-zero elements in the document.1\")\n",
        "  else:\n",
        "    print(\"There are no non-zero elements in the document.2\")\n",
        "\n",
        "\n"
      ]
    }
  ],
  "metadata": {
    "colab": {
      "provenance": [],
      "authorship_tag": "ABX9TyNwyxHqQIvdIlJd1V2Z6rHM",
      "include_colab_link": true
    },
    "kernelspec": {
      "display_name": "Python 3",
      "name": "python3"
    },
    "language_info": {
      "name": "python"
    }
  },
  "nbformat": 4,
  "nbformat_minor": 0
}